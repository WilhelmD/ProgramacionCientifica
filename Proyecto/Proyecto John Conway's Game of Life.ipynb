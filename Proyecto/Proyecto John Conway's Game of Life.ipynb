{
 "cells": [
  {
   "cell_type": "markdown",
   "metadata": {
    "collapsed": true
   },
   "source": [
    "<h1 align=\"center\">Cellular Automaton: Conway's Game of Life</h1>"
   ]
  },
  {
   "cell_type": "markdown",
   "metadata": {
    "collapsed": true
   },
   "source": [
    "Se representan las celulas vivas y muertas utilizando un numpy array con 0 y 1."
   ]
  },
  {
   "cell_type": "code",
   "execution_count": 1,
   "metadata": {
    "collapsed": true
   },
   "outputs": [],
   "source": [
    "%matplotlib inline\n",
    "\n",
    "import numba\n",
    "import numpy as np\n",
    "import random\n",
    "import matplotlib.pyplot as plt\n",
    "import matplotlib.image as mpimg\n",
    "from matplotlib import cm\n",
    "import scipy as sp\n",
    "import sys\n",
    "from ipywidgets import interact, interactive, fixed"
   ]
  },
  {
   "cell_type": "code",
   "execution_count": 2,
   "metadata": {
    "collapsed": false
   },
   "outputs": [],
   "source": [
    "def next_generation(a):\n",
    "    array = np.copy(a)\n",
    "    dies_x = [0]\n",
    "    dies_y = [0]\n",
    "    reprod_x = [0]\n",
    "    reprod_y = [0]\n",
    "    for i in range(1, (len(array) - 1)):\n",
    "        for j in range(1, (len(array) - 1)):\n",
    "            vecinos = np.sum(array[i-1:i+2,j-1:j+2])\n",
    "            if (array[i,j] == 1):\n",
    "                vecinos -= 1\n",
    "                if (vecinos > 3):\n",
    "                    dies_x.append(i)\n",
    "                    dies_y.append(j)\n",
    "                elif (vecinos < 2):\n",
    "                    dies_x.append(i)\n",
    "                    dies_y.append(j)\n",
    "            else:\n",
    "                if (vecinos == 3):\n",
    "                    reprod_x.append(i)\n",
    "                    reprod_y.append(j)\n",
    "    \n",
    "    for i in range(1, len(dies_x)):\n",
    "        array[dies_x[i], dies_y[i]] = 0\n",
    "        \n",
    "    for i in range(1, len(reprod_x)):\n",
    "        array[reprod_x[i], reprod_y[i]] = 1\n",
    "        \n",
    "    return array"
   ]
  },
  {
   "cell_type": "markdown",
   "metadata": {},
   "source": [
    " Se implemento la funcion next_generation, que retorna la siguiente generacion de un array.\n",
    " Esta no considera los bordes del array, esto para evitarme problemas con los indices al recorrer el array y hacerme la vida mas facil.\n",
    " Ya que no se consideran los bordes, estos no seran mostrados en la visualizacion mas adelante."
   ]
  },
  {
   "cell_type": "markdown",
   "metadata": {},
   "source": [
    " Para el profiling simplemente utilizo timeit para tener una idea del rendimiento de la funcion implementada:"
   ]
  },
  {
   "cell_type": "code",
   "execution_count": 3,
   "metadata": {
    "collapsed": false
   },
   "outputs": [
    {
     "name": "stdout",
     "output_type": "stream",
     "text": [
      "10 loops, best of 3: 63.3 ms per loop\n"
     ]
    }
   ],
   "source": [
    "a = np.random.rand(100,100)\n",
    "a = a>0.7\n",
    "a = a.astype(int)\n",
    "\n",
    "t1 = %timeit -o -n 10 next_generation(a)"
   ]
  },
  {
   "cell_type": "markdown",
   "metadata": {},
   "source": [
    "Luego utilizo numba para mejorar el rendimiento de la implementacion:"
   ]
  },
  {
   "cell_type": "code",
   "execution_count": 4,
   "metadata": {
    "collapsed": false
   },
   "outputs": [],
   "source": [
    "@numba.jit()\n",
    "def next_generation(a):\n",
    "    array = np.copy(a)\n",
    "    dies_x = [0]\n",
    "    dies_y = [0]\n",
    "    reprod_x = [0]\n",
    "    reprod_y = [0]\n",
    "    for i in range(1, (len(array) - 1)):\n",
    "        for j in range(1, (len(array) - 1)):\n",
    "            vecinos = np.sum(array[i-1:i+2,j-1:j+2])\n",
    "            if (array[i,j] == 1):\n",
    "                vecinos -= 1\n",
    "                if (vecinos > 3):\n",
    "                    dies_x.append(i)\n",
    "                    dies_y.append(j)\n",
    "                elif (vecinos < 2):\n",
    "                    dies_x.append(i)\n",
    "                    dies_y.append(j)\n",
    "            else:\n",
    "                if (vecinos == 3):\n",
    "                    reprod_x.append(i)\n",
    "                    reprod_y.append(j)\n",
    "    \n",
    "    for i in range(1, len(dies_x)):\n",
    "        array[dies_x[i], dies_y[i]] = 0\n",
    "        \n",
    "    for i in range(1, len(reprod_x)):\n",
    "        array[reprod_x[i], reprod_y[i]] = 1\n",
    "        \n",
    "    return array"
   ]
  },
  {
   "cell_type": "code",
   "execution_count": 5,
   "metadata": {
    "collapsed": false
   },
   "outputs": [
    {
     "name": "stdout",
     "output_type": "stream",
     "text": [
      "The slowest run took 83.94 times longer than the fastest. This could mean that an intermediate result is being cached.\n",
      "10 loops, best of 3: 795 µs per loop\n"
     ]
    }
   ],
   "source": [
    "a = np.random.rand(100,100)\n",
    "a = a>0.7\n",
    "a = a.astype(int)\n",
    "\n",
    "t2 = %timeit -o -n 10 next_generation(a)"
   ]
  },
  {
   "cell_type": "markdown",
   "metadata": {},
   "source": [
    "Finalmente para la visualizacion de resultados, utilizo la funcion get_results para crear una lista que almacena n generaciones que se obtienen a partir de un array inicial dado. Los resultados excluyen los bordes del array por motivos ya mencionados.\n",
    "\n",
    "Luego creo la funcion show_result con el motivo de utilizarla con interact para visualizar los datos.\n",
    "\n",
    "El widget creado nos muestra las n generaciones que creamos.\n",
    "\n",
    "Primero muestro un ejemplo con un array especifico creado, luego de eso muestro uno con un array randomizado."
   ]
  },
  {
   "cell_type": "code",
   "execution_count": 6,
   "metadata": {
    "collapsed": false
   },
   "outputs": [
    {
     "data": {
      "image/png": "[encoded data removed]",
      "text/plain": [
       "<matplotlib.figure.Figure at 0x209459bdc88>"
      ]
     },
     "metadata": {},
     "output_type": "display_data"
    },
    {
     "data": {
      "text/plain": [
       "<function __main__.show_result>"
      ]
     },
     "execution_count": 6,
     "metadata": {},
     "output_type": "execute_result"
    }
   ],
   "source": [
    "def get_results(array, n):\n",
    "    results = list()\n",
    "    size = len(array)\n",
    "    for i in range(n):\n",
    "        print(type(array))\n",
    "        results.append(array[1:size-1,1:size-1])\n",
    "        array = next_generation(array)\n",
    "    return results\n",
    "\n",
    "def show_result(results, n):\n",
    "    plt.imshow(results[n-1], cmap=\"hot\")\n",
    "    plt.show()\n",
    "    \n",
    "array = np.zeros((31,31))\n",
    "array[15,15] = 1\n",
    "array[16,14] = 1\n",
    "array[16,15] = 1\n",
    "array[16,16] = 1\n",
    "array[17,14] = 1\n",
    "array[17,16] = 1\n",
    "array[18,15] = 1\n",
    "\n",
    "res = get_results(array, 20)\n",
    "\n",
    "interact(show_result, results=fixed(res), n=(1,20))"
   ]
  },
  {
   "cell_type": "code",
   "execution_count": 7,
   "metadata": {
    "collapsed": false
   },
   "outputs": [
    {
     "data": {
      "image/png": "[encoded data removed]",
      "text/plain": [
       "<matplotlib.figure.Figure at 0x20942e7fd68>"
      ]
     },
     "metadata": {},
     "output_type": "display_data"
    },
    {
     "data": {
      "text/plain": [
       "<function __main__.show_result>"
      ]
     },
     "execution_count": 7,
     "metadata": {},
     "output_type": "execute_result"
    }
   ],
   "source": [
    "a = np.random.rand(31,31)\n",
    "a = a>0.7\n",
    "a = a.astype(int)\n",
    "\n",
    "res = get_results(a, 50)\n",
    "\n",
    "interact(show_result, results=fixed(res), n=(1,50))"
   ]
  }
 ],
 "metadata": {
  "kernelspec": {
   "display_name": "Python 3",
   "language": "python",
   "name": "python3"
  },
  "language_info": {
   "codemirror_mode": {
    "name": "ipython",
    "version": 3
   },
   "file_extension": ".py",
   "mimetype": "text/x-python",
   "name": "python",
   "nbconvert_exporter": "python",
   "pygments_lexer": "ipython3",
   "version": "3.6.0"
  },
  "widgets": {
   "state": {
    "6b7a05a972b848bca37824df5cf011ba": {
     "views": [
      {
       "cell_index": 11
      }
     ]
    },
    "aa86b6867b0a4c68a3e20ee6ec8cc2ac": {
     "views": [
      {
       "cell_index": 12
      }
     ]
    }
   },
   "version": "1.2.0"
  }
 },
 "nbformat": 4,
 "nbformat_minor": 2
}
