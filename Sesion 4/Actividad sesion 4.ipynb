{
 "cells": [
  {
   "cell_type": "markdown",
   "metadata": {},
   "source": [
    "<center>\n",
    "    <h1> Scientific Programming in Python  </h1>\n",
    "    <h2> Topic 4: Just in Time Compilation: Numba and NumExpr </h2> \n",
    "</center>"
   ]
  },
  {
   "cell_type": "code",
   "execution_count": 1,
   "metadata": {
    "collapsed": true
   },
   "outputs": [],
   "source": [
    "import numba\n",
    "import numpy as np\n",
    "import numexpr as ne\n",
    "import matplotlib.pyplot as plt"
   ]
  },
  {
   "cell_type": "markdown",
   "metadata": {
    "collapsed": true
   },
   "source": [
    "En esta actividad implementaremos una conocida métrica para medir disimilitud entre conjuntos: __La métrica de Hausdorff__. Esta corresponde a un métrica o distancia ocupada para medir cuán disímiles son dos subconjuntos dados. \n",
    "\n",
    "\n",
    "Esta tiene muchas aplicaciones, en particular para comparar el parecido entre imágenes. En el caso en donde los conjuntos son arreglos bidimensionales, la definición es la siguiente:\n",
    "\n",
    "Sean $X \\in \\mathbb{R}^{m \\times 3}$ e  $Y \\in \\mathbb{R}^{n \\times 3}$ dos matrices, la métrica/distancia de Hausdorff sobre sobre estas como:\n",
    "\n",
    "$$\n",
    "d_H(X,Y) = \\max \\left(\\ \\max_{i\\leq m} \\min_{j \\leq n} d(X[i],Y[j]), \\ \\max_{j\\leq n} \\min_{i \\leq m} d(Y[j],X[i]) \\ \\right)\n",
    "$$\n",
    "\n",
    "donde $d$ es la _distancia Euclideana_ clásica. ($X[i]$ indíca la i-ésima fila de X).\n",
    "\n",
    "__Ilustración unidimensional:__ Distancia entre funciones.\n",
    "<img src='data/hausdorff.png' style=\"width: 600px;\">"
   ]
  },
  {
   "cell_type": "markdown",
   "metadata": {},
   "source": [
    "1. Implemente la métrica de Hausdorff en Python clásico.\n",
    "2. Implemente la métrica de Hausdorff usando Numba (Forzando el modo __nopython__ y definiendo explícitamente las _signatures_ de las funciones).\n",
    "3. Cree `10` arreglos $X,Y$ aleatorios, con cantidad creciente de filas, y realice análsis de tiempos de ejecuciones de las funciones anteriores sobre estos arreglos.\n",
    "4. Concluya."
   ]
  },
  {
   "cell_type": "code",
   "execution_count": 2,
   "metadata": {
    "collapsed": true
   },
   "outputs": [],
   "source": [
    "def dist(a, b):\n",
    "    return np.sqrt((a - b)**2)\n",
    "\n",
    "def max_min_dist(X, Y):\n",
    "    m,n = X.shape\n",
    "    maxs = np.empty(m)\n",
    "    for k in np.arange(m):\n",
    "        mins = np.empty((m,n))\n",
    "        for i in np.arange(m):\n",
    "            for j in np.arange(n):\n",
    "                mins[i,j] = dist(X[k,j], Y[i,j])\n",
    "        maxs[k] = np.amin(mins[k,:])\n",
    "    return np.amax(maxs)   \n",
    "    \n",
    "def hausdorff(X, Y):\n",
    "    return np.maximum(max_min_dist(X, Y), max_min_dist(Y, X))"
   ]
  },
  {
   "cell_type": "code",
   "execution_count": 3,
   "metadata": {
    "collapsed": false
   },
   "outputs": [],
   "source": [
    "@numba.jit('float64 (float64, float64)',nopython=True)\n",
    "def numba_dist(a, b):\n",
    "    return np.sqrt((a - b)**2)\n",
    "\n",
    "@numba.jit('float64 (float64[:,:], float64[:,:])',nopython=True)\n",
    "def numba_max_min_dist(X, Y):\n",
    "    m,n = X.shape\n",
    "    maxs = np.empty(m)\n",
    "    for k in np.arange(m):\n",
    "        mins = np.empty((m,n))\n",
    "        for i in np.arange(m):\n",
    "            for j in np.arange(n):\n",
    "                mins[i,j] = numba_dist(X[k,j], Y[i,j])\n",
    "        maxs[k] = np.amin(mins[k,:])\n",
    "    return np.amax(maxs)    \n",
    "\n",
    "@numba.jit('float64 (float64[:,:], float64[:,:])',nopython=True)\n",
    "def numba_hausdorff(X, Y):\n",
    "    return np.maximum(numba_max_min_dist(X, Y), numba_max_min_dist(Y, X))"
   ]
  },
  {
   "cell_type": "code",
   "execution_count": null,
   "metadata": {
    "collapsed": false
   },
   "outputs": [],
   "source": [
    "X1 = np.random.random((10,10))\n",
    "Y1 = np.random.random((10,10))\n",
    "\n",
    "X2 = np.random.random((50,50))\n",
    "Y2 = np.random.random((50,50))\n",
    "\n",
    "X3 = np.random.random((100,100))\n",
    "Y3 = np.random.random((100,100))\n",
    "\n",
    "X4 = np.random.random((200,200))\n",
    "Y4 = np.random.random((200,200))\n",
    "\n",
    "X5 = np.random.random((300,300))\n",
    "Y5 = np.random.random((300,300))\n",
    "\n",
    "X6 = np.random.random((400,400))\n",
    "Y6 = np.random.random((400,400))\n",
    "\n",
    "X7 = np.random.random((500,500))\n",
    "Y7 = np.random.random((500,500))\n",
    "\n",
    "X8 = np.random.random((1000,1000))\n",
    "Y8 = np.random.random((1000,1000))\n",
    "\n",
    "X9 = np.random.random((1500,1500))\n",
    "Y9 = np.random.random((1500,1500))\n",
    "\n",
    "X10 = np.random.random((2000,2000))\n",
    "Y10 = np.random.random((2000,2000))"
   ]
  },
  {
   "cell_type": "code",
   "execution_count": null,
   "metadata": {
    "collapsed": false
   },
   "outputs": [],
   "source": [
    "%%timeit\n",
    "hausdorff(X1, Y1)\n",
    "hausdorff(X2, Y2)\n",
    "hausdorff(X3, Y3)\n",
    "hausdorff(X4, Y4)\n",
    "hausdorff(X5, Y5)\n",
    "hausdorff(X6, Y6)\n",
    "hausdorff(X7, Y7)\n",
    "hausdorff(X8, Y8)\n",
    "hausdorff(X9, Y9)\n",
    "hausdorff(X10, Y10)"
   ]
  },
  {
   "cell_type": "code",
   "execution_count": null,
   "metadata": {
    "collapsed": false
   },
   "outputs": [],
   "source": [
    "%%timeit\n",
    "numba_hausdorff(X1, Y1)\n",
    "numba_hausdorff(X2, Y2)\n",
    "numba_hausdorff(X3, Y3)\n",
    "numba_hausdorff(X4, Y4)\n",
    "numba_hausdorff(X5, Y5)\n",
    "numba_hausdorff(X6, Y6)\n",
    "numba_hausdorff(X7, Y7)\n",
    "numba_hausdorff(X8, Y8)\n",
    "numba_hausdorff(X9, Y9)\n",
    "numba_hausdorff(X10, Y10)"
   ]
  },
  {
   "cell_type": "markdown",
   "metadata": {},
   "source": [
    "Podemos concluir que blabla"
   ]
  }
 ],
 "metadata": {
  "kernelspec": {
   "display_name": "Python 3",
   "language": "python",
   "name": "python3"
  },
  "language_info": {
   "codemirror_mode": {
    "name": "ipython",
    "version": 3
   },
   "file_extension": ".py",
   "mimetype": "text/x-python",
   "name": "python",
   "nbconvert_exporter": "python",
   "pygments_lexer": "ipython3",
   "version": "3.6.0"
  }
 },
 "nbformat": 4,
 "nbformat_minor": 2
}
