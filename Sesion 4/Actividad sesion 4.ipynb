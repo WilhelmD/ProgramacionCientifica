{
 "cells": [
  {
   "cell_type": "code",
   "execution_count": 1,
   "metadata": {
    "collapsed": true
   },
   "outputs": [],
   "source": [
    "import numba\n",
    "import numpy as np\n",
    "import numexpr as ne\n",
    "import matplotlib.pyplot as plt"
   ]
  },
  {
   "cell_type": "code",
   "execution_count": 2,
   "metadata": {
    "collapsed": true
   },
   "outputs": [],
   "source": [
    "def dist(a, b):\n",
    "    return np.sqrt((a - b)**2)\n",
    "\n",
    "#distancia euclideana entre 2 puntos de A y B: np.linalg.norm(A[i]-B[j])\n",
    "\n",
    "def max_min_dist(X, Y):\n",
    "    m,n = X.shape\n",
    "    maxs = np.empty(m)\n",
    "    for k in np.arange(m):\n",
    "        mins = np.empty((m,n))\n",
    "        for i in np.arange(m):\n",
    "            mins[i] = np.linalg.norm(X[k]-Y[i])\n",
    "        maxs[k] = np.amin(mins[k,:])\n",
    "    return np.amax(maxs)   \n",
    "    \n",
    "def hausdorff(X, Y):\n",
    "    return np.maximum(max_min_dist(X, Y), max_min_dist(Y, X))"
   ]
  },
  {
   "cell_type": "code",
   "execution_count": 3,
   "metadata": {
    "collapsed": false
   },
   "outputs": [],
   "source": [
    "@numba.jit('float64 (float64, float64)',nopython=True)\n",
    "def numba_dist(a, b):\n",
    "    return np.sqrt((a - b)**2)\n",
    "\n",
    "@numba.jit('float64 (float64[:,:], float64[:,:])',nopython=True)\n",
    "def numba_max_min_dist(X, Y):\n",
    "    m,n = X.shape\n",
    "    maxs = np.empty(m)\n",
    "    for k in np.arange(m):\n",
    "        mins = np.empty((m,n))\n",
    "        for i in np.arange(m):\n",
    "            mins[i] = np.linalg.norm(X[k]-Y[i])\n",
    "        maxs[k] = np.amin(mins[k,:])\n",
    "    return np.amax(maxs)    \n",
    "\n",
    "@numba.jit('float64 (float64[:,:], float64[:,:])',nopython=True)\n",
    "def numba_hausdorff(X, Y):\n",
    "    return np.maximum(numba_max_min_dist(X, Y), numba_max_min_dist(Y, X))"
   ]
  },
  {
   "cell_type": "code",
   "execution_count": 4,
   "metadata": {
    "collapsed": false
   },
   "outputs": [
    {
     "name": "stdout",
     "output_type": "stream",
     "text": [
      "Iteración 1:\n",
      "10 loops, best of 3: 166 ms per loop\n",
      "Iteración 2:\n",
      "1 loop, best of 3: 563 ms per loop\n",
      "Iteración 3:\n",
      "1 loop, best of 3: 1.24 s per loop\n",
      "Iteración 4:\n",
      "1 loop, best of 3: 2.45 s per loop\n",
      "Iteración 5:\n",
      "1 loop, best of 3: 3.15 s per loop\n",
      "Iteración 6:\n",
      "1 loop, best of 3: 5.36 s per loop\n",
      "Iteración 7:\n",
      "1 loop, best of 3: 7.21 s per loop\n",
      "Iteración 8:\n",
      "1 loop, best of 3: 9.05 s per loop\n",
      "Iteración 9:\n",
      "1 loop, best of 3: 12.6 s per loop\n",
      "Iteración 10:\n",
      "1 loop, best of 3: 17.6 s per loop\n"
     ]
    }
   ],
   "source": [
    "for i in np.arange(1,11):\n",
    "    n = i*100\n",
    "    m = 100\n",
    "    X = np.random.random((n,m))\n",
    "    Y = np.random.random((n,m))\n",
    "    print(\"Iteración \" + str(i) +\":\")\n",
    "    %timeit hausdorff(X,Y)"
   ]
  },
  {
   "cell_type": "code",
   "execution_count": 5,
   "metadata": {
    "collapsed": false,
    "scrolled": true
   },
   "outputs": [
    {
     "name": "stdout",
     "output_type": "stream",
     "text": [
      "Iteración 1 con Numba:\n",
      "10 loops, best of 3: 23.7 ms per loop\n",
      "Iteración 2 con Numba:\n",
      "10 loops, best of 3: 46.7 ms per loop\n",
      "Iteración 3 con Numba:\n",
      "10 loops, best of 3: 103 ms per loop\n",
      "Iteración 4 con Numba:\n",
      "10 loops, best of 3: 204 ms per loop\n",
      "Iteración 5 con Numba:\n",
      "1 loop, best of 3: 363 ms per loop\n",
      "Iteración 6 con Numba:\n",
      "1 loop, best of 3: 410 ms per loop\n",
      "Iteración 7 con Numba:\n",
      "1 loop, best of 3: 554 ms per loop\n",
      "Iteración 8 con Numba:\n",
      "1 loop, best of 3: 709 ms per loop\n",
      "Iteración 9 con Numba:\n",
      "1 loop, best of 3: 925 ms per loop\n",
      "Iteración 10 con Numba:\n",
      "1 loop, best of 3: 1.08 s per loop\n"
     ]
    }
   ],
   "source": [
    "for i in np.arange(1,11):\n",
    "    n = i*100\n",
    "    m = 100\n",
    "    X = np.random.random((n,m))\n",
    "    Y = np.random.random((n,m))\n",
    "    print(\"Iteración \" + str(i) +\" con Numba:\")\n",
    "    %timeit numba_hausdorff(X,Y)"
   ]
  },
  {
   "cell_type": "markdown",
   "metadata": {},
   "source": [
    "Luego de comparar los tiempos de ejecución podemos concluir de estos que la ejecución con JIT obviamente es más rápida, pero también podemos ver que la variación respecto al tamaño de la entrada es mejor utilizando JIT, realizando el cuociente entre el último tiempo de ejecución con el primero para python con y sin JIT, tenemos los siguientes valores aprox:\n",
    "\n",
    "- Python sin JIT: 106.024\n",
    "- Python con JIT: 45.567"
   ]
  }
 ],
 "metadata": {
  "kernelspec": {
   "display_name": "Python 3",
   "language": "python",
   "name": "python3"
  },
  "language_info": {
   "codemirror_mode": {
    "name": "ipython",
    "version": 3
   },
   "file_extension": ".py",
   "mimetype": "text/x-python",
   "name": "python",
   "nbconvert_exporter": "python",
   "pygments_lexer": "ipython3",
   "version": "3.6.0"
  }
 },
 "nbformat": 4,
 "nbformat_minor": 2
}
