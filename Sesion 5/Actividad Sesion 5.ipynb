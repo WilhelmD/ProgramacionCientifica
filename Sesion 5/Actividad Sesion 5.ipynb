{
 "cells": [
  {
   "cell_type": "code",
   "execution_count": null,
   "metadata": {
    "collapsed": false
   },
   "outputs": [],
   "source": [
    "import numba\n",
    "import numpy as np\n",
    "from math import sqrt\n",
    "\n",
    "%load_ext Cython"
   ]
  },
  {
   "cell_type": "code",
   "execution_count": null,
   "metadata": {
    "collapsed": true
   },
   "outputs": [],
   "source": [
    "@numba.jit('float64 (float64[:], float64[:])')\n",
    "def metric_numba(x, y):\n",
    "    \"\"\"\n",
    "    standard Euclidean distance\n",
    "    \"\"\"\n",
    "    ret = x-y\n",
    "    ret *= ret\n",
    "    return np.sqrt(ret).sum()\n",
    "\n",
    "\n",
    "@numba.jit('float64 (float64[:], float64[:,:])', nopython=True)\n",
    "def inf_dist_numba(x, Y):\n",
    "    \"\"\"\n",
    "    inf distance between row x and array Y\n",
    "    \"\"\"\n",
    "    m = Y.shape[0]\n",
    "    inf = np.inf\n",
    "    \n",
    "    for i in range(m):\n",
    "        dist = metric_numba(x, Y[i])\n",
    "        if dist < inf:\n",
    "            inf = dist\n",
    "    return inf\n",
    "\n",
    "@numba.jit('float64 (float64[:,:], float64[:,:])', nopython=True)\n",
    "def hausdorff_numba(X, Y):\n",
    "    \"\"\"\n",
    "    Hausdorff distance between arrays X and Y\n",
    "    \"\"\"\n",
    "    m = X.shape[0]\n",
    "    n = Y.shape[0]\n",
    "    sup1 = -1.\n",
    "    sup2 = -1.\n",
    "    \n",
    "    for i in range(m):\n",
    "        inf1 = inf_dist_numba(X[i], Y)\n",
    "        if inf1 > sup1:\n",
    "            sup1 = inf1\n",
    "    for i in range(n):\n",
    "        inf2 = inf_dist_numba(Y[i], X)\n",
    "        if inf2 > sup2:\n",
    "            sup2 = inf2\n",
    "            \n",
    "    return max(sup1, sup2)"
   ]
  },
  {
   "cell_type": "code",
   "execution_count": null,
   "metadata": {
    "collapsed": false
   },
   "outputs": [],
   "source": [
    "%%cython -a -c=-fPIC -c=-fwrapv -c=-O3 -c=-fno-strict-aliasing\n",
    "#!python\n",
    "#cython: cdivision=True, boundscheck=False, nonecheck=False, wraparound=False, initializedcheck=False\n",
    "\n",
    "import numpy as np\n",
    "cimport numpy as cnp\n",
    "ctypedef cnp.float64_t float64_t\n",
    "from libc.math cimport sqrt\n",
    "\n",
    "cdef float64_t metric_cython(float64_t[::1] x,float64_t[::1] y):\n",
    "    cdef:\n",
    "        int i = 0\n",
    "        int n = x.shape[0]\n",
    "        float ret = 0\n",
    "    for i in range(n):\n",
    "        ret += (x[i]-y[i])**2\n",
    "    return sqrt(ret)\n",
    "\n",
    "cdef float64_t inf_dist_cython(float64_t[::1] x, float64_t[:,::1] Y):\n",
    "    cdef:\n",
    "        int m = Y.shape[0]\n",
    "        float inf = cnp.inf\n",
    "        float dist\n",
    "    \n",
    "    for i in range(m):\n",
    "        dist = metric_cython(x, Y[i,:])\n",
    "        if dist < inf:\n",
    "            inf = dist\n",
    "    return inf\n",
    "\n",
    "def hausdorff_cython(float64_t[:,::1] X, float64_t[:,::1] Y):\n",
    "    cdef:\n",
    "        int m = X.shape[0]\n",
    "        int n = Y.shape[0]\n",
    "        float sup1 = -1.\n",
    "        float sup2 = -1.\n",
    "    \n",
    "    for i in range(m):\n",
    "        inf1 = inf_dist_cython(X[i,:], Y)\n",
    "        if inf1 > sup1:\n",
    "            sup1 = inf1\n",
    "    for i in range(n):\n",
    "        inf2 = inf_dist_cython(Y[i,:], X)\n",
    "        if inf2 > sup2:\n",
    "            sup2 = inf2\n",
    "            \n",
    "    return max(sup1, sup2)"
   ]
  },
  {
   "cell_type": "code",
   "execution_count": null,
   "metadata": {
    "collapsed": false
   },
   "outputs": [],
   "source": [
    "for i in np.arange(1,11):\n",
    "    n = i*100\n",
    "    m = 100\n",
    "    X = np.random.random((n,m))\n",
    "    Y = np.random.random((n,m))\n",
    "    print(\"Iteración \" + str(i) +\" con Numba:\")\n",
    "    %timeit hausdorff_numba(X,Y)"
   ]
  },
  {
   "cell_type": "code",
   "execution_count": null,
   "metadata": {
    "collapsed": false
   },
   "outputs": [],
   "source": [
    "for i in np.arange(1,11):\n",
    "    n = i*100\n",
    "    m = 100\n",
    "    X = np.random.random((n,m))\n",
    "    Y = np.random.random((n,m))\n",
    "    print(\"Iteración \" + str(i) +\" con Cython:\")\n",
    "    %timeit hausdorff_cython(X,Y)"
   ]
  }
 ],
 "metadata": {
  "kernelspec": {
   "display_name": "Python 3",
   "language": "python",
   "name": "python3"
  },
  "language_info": {
   "codemirror_mode": {
    "name": "ipython",
    "version": 3
   },
   "file_extension": ".py",
   "mimetype": "text/x-python",
   "name": "python",
   "nbconvert_exporter": "python",
   "pygments_lexer": "ipython3",
   "version": "3.6.0"
  }
 },
 "nbformat": 4,
 "nbformat_minor": 2
}
