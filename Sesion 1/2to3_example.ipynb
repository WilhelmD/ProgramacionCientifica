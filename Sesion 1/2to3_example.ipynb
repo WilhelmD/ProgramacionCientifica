{
 "cells": [
  {
   "cell_type": "code",
   "execution_count": 68,
   "metadata": {
    "collapsed": false
   },
   "outputs": [],
   "source": [
    "from IPython.core.magic import register_cell_magic\n",
    "\n",
    "@register_cell_magic\n",
    "def py2_to_py3(line, cell):\n",
    "\n",
    "    ip = get_ipython()\n",
    "    \n",
    "    filename = '_temp.py'\n",
    "    \n",
    "    with open(filename, 'w') as f:\n",
    "        lines = cell.split(\"\\n\")\n",
    "        for line in lines:\n",
    "            if \"print \" in line:\n",
    "                line = line.replace(\"print \", \"print(\")\n",
    "                line += \")\"\n",
    "            line += \"\\n\"\n",
    "            f.write(line)\n",
    "    \n",
    "    output = ip.getoutput('ipython ' + filename)\n",
    "    \n",
    "    print('\\n'.join(output))"
   ]
  },
  {
   "cell_type": "code",
   "execution_count": 69,
   "metadata": {
    "collapsed": false
   },
   "outputs": [
    {
     "name": "stdout",
     "output_type": "stream",
     "text": [
      "Ingrese a: ---------------------------------------------------------------------------\n",
      "EOFError                                  Traceback (most recent call last)\n",
      "C:\\Users\\Wil\\Desktop\\Wil\\Otros\\SciProg Stuff\\ProgramacionCientifica\\_temp.py in <module>()\n",
      "----> 1 a = float(input(\"Ingrese a: \"))\n",
      "      2 b = float(input(\"Ingrese b: \"))\n",
      "      3 c = float(input(\"Ingrese c: \"))\n",
      "      4 \n",
      "      5 if a>(b+c) or b>(a+c) or c>(a+b):\n",
      "\n",
      "EOFError: EOF when reading a line\n"
     ]
    }
   ],
   "source": [
    "%%py2_to_py3\n",
    "a = float(input(\"Ingrese a: \"))\n",
    "b = float(input(\"Ingrese b: \"))\n",
    "c = float(input(\"Ingrese c: \"))\n",
    "\n",
    "if a>(b+c) or b>(a+c) or c>(a+b):\n",
    "    print \"Ingrese un traingulo valido.\"\n",
    "elif a==b and b==c:\n",
    "    print \"Triangulo equilatero.\"\n",
    "elif a==b or b==c or a==c:\n",
    "    print \"Triangulo isoceles.\"\n",
    "else:\n",
    "    print \"Triangulo escaleno.\""
   ]
  },
  {
   "cell_type": "code",
   "execution_count": 73,
   "metadata": {
    "collapsed": false
   },
   "outputs": [
    {
     "name": "stdout",
     "output_type": "stream",
     "text": [
      "Triangulo isoceles.\n"
     ]
    }
   ],
   "source": [
    "%%py2_to_py3\n",
    "a = 1\n",
    "b = 2\n",
    "c = 2\n",
    "\n",
    "if a>(b+c) or b>(a+c) or c>(a+b):\n",
    "    print \"Ingrese un traingulo valido.\"\n",
    "elif a==b and b==c:\n",
    "    print \"Triangulo equilatero.\"\n",
    "elif a==b or b==c or a==c:\n",
    "    print \"Triangulo isoceles.\"\n",
    "else:\n",
    "    print \"Triangulo escaleno.\"\n",
    "    \n",
    "#Magic reescribe bien el programa, al correrlo con ipython "
   ]
  },
  {
   "cell_type": "code",
   "execution_count": null,
   "metadata": {
    "collapsed": true
   },
   "outputs": [],
   "source": []
  }
 ],
 "metadata": {
  "kernelspec": {
   "display_name": "Python 3",
   "language": "python",
   "name": "python3"
  },
  "language_info": {
   "codemirror_mode": {
    "name": "ipython",
    "version": 3
   },
   "file_extension": ".py",
   "mimetype": "text/x-python",
   "name": "python",
   "nbconvert_exporter": "python",
   "pygments_lexer": "ipython3",
   "version": "3.6.0"
  }
 },
 "nbformat": 4,
 "nbformat_minor": 2
}
